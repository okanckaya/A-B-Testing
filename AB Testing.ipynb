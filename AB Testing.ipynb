{
  "nbformat": 4,
  "nbformat_minor": 0,
  "metadata": {
    "colab": {
      "name": "VBO_Week5_ABTesting.ipynb",
      "provenance": [],
      "collapsed_sections": []
    },
    "kernelspec": {
      "name": "python3",
      "display_name": "Python 3"
    },
    "language_info": {
      "name": "python"
    }
  },
  "cells": [
    {
      "cell_type": "code",
      "metadata": {
        "id": "LbtpVDA39HMc"
      },
      "source": [
        "import numpy as np\n",
        "import pandas as pd\n",
        "\n",
        "import numpy as np\n",
        "import pandas as pd\n",
        "import matplotlib.pyplot as plt\n",
        "import seaborn as sns\n",
        "import statsmodels.stats.api as sms\n",
        "from scipy.stats import ttest_1samp, shapiro, levene, ttest_ind, mannwhitneyu, pearsonr, spearmanr, kendalltau, f_oneway, kruskal\n",
        "from statsmodels.stats.proportion import proportions_ztest"
      ],
      "execution_count": null,
      "outputs": []
    },
    {
      "cell_type": "code",
      "metadata": {
        "colab": {
          "base_uri": "https://localhost:8080/"
        },
        "id": "8fUnzX-49QwZ",
        "outputId": "16befa01-2182-40d6-ba07-a88b2d27e7ac"
      },
      "source": [
        "from google.colab import drive \n",
        "drive.mount('/content/gdrive')"
      ],
      "execution_count": null,
      "outputs": [
        {
          "output_type": "stream",
          "name": "stdout",
          "text": [
            "Drive already mounted at /content/gdrive; to attempt to forcibly remount, call drive.mount(\"/content/gdrive\", force_remount=True).\n"
          ]
        }
      ]
    },
    {
      "cell_type": "code",
      "metadata": {
        "id": "DkbL1MjR9eiz"
      },
      "source": [
        "df_control = pd.read_excel('gdrive/My Drive/VBO/Hafta 5/Ders Notları/ab_testing.xlsx')\n",
        "df_test = pd.read_excel('gdrive/My Drive/VBO/Hafta 5/Ders Notları/ab_testing_test_group.xlsx')"
      ],
      "execution_count": null,
      "outputs": []
    },
    {
      "cell_type": "markdown",
      "metadata": {
        "id": "POkCHMVt2zK1"
      },
      "source": [
        "In this project, calculations will be made not on raw data, but on newly calculated parameters, e. g.  click/purchase and earning per impression."
      ]
    },
    {
      "cell_type": "code",
      "metadata": {
        "id": "W84R9MXG90EI"
      },
      "source": [
        "df_control[\"Impression_Click_Rate\"] = df_control[\"Click\"] / df_control[\"Impression\"] * 100\n",
        "df_control[\"Impression_Purchase_Rate\"] = df_control[\"Purchase\"] / df_control[\"Impression\"] * 100 \n",
        "df_control[\"Impression_Earning_Rate\"] = df_control[\"Earning\"] / df_control[\"Impression\"] * 100 #$ per impression\n",
        "\n",
        "df_test[\"Impression_Click_Rate\"] = df_test[\"Click\"] / df_test[\"Impression\"] * 100\n",
        "df_test[\"Impression_Purchase_Rate\"] = df_test[\"Purchase\"] / df_test[\"Impression\"] * 100 \n",
        "df_test[\"Impression_Earning_Rate\"] = df_test[\"Earning\"] / df_test[\"Impression\"] * 100 #$ per impression"
      ],
      "execution_count": null,
      "outputs": []
    },
    {
      "cell_type": "code",
      "metadata": {
        "id": "X9PnBXmn-FRa"
      },
      "source": [
        "#gösterimi düşük olanın alımları ile yüksek olanların alımları arasında fark var mı?"
      ],
      "execution_count": null,
      "outputs": []
    },
    {
      "cell_type": "markdown",
      "metadata": {
        "id": "ZyIfF42W3dr_"
      },
      "source": [
        "***AB TESTING***"
      ]
    },
    {
      "cell_type": "markdown",
      "metadata": {
        "id": "0ky9x8u63hQX"
      },
      "source": [
        "Hypothesis: There is a statistically significant difference between maximum bidding and average bidding."
      ]
    },
    {
      "cell_type": "code",
      "metadata": {
        "id": "kitgJLIscRHD"
      },
      "source": [
        "# H0: Maximum Bidding ile Average Bidding arasında istatistiksel olarak anlamlı bir fark yoktur\n",
        "# H1: Fark vardır."
      ],
      "execution_count": null,
      "outputs": []
    },
    {
      "cell_type": "code",
      "metadata": {
        "id": "vieLab1mdWly"
      },
      "source": [
        "# Problem 3 başlık için incelenecek: Click, purchase ve earning"
      ],
      "execution_count": null,
      "outputs": []
    },
    {
      "cell_type": "code",
      "metadata": {
        "colab": {
          "base_uri": "https://localhost:8080/",
          "height": 202
        },
        "id": "5V2hZhKDdijg",
        "outputId": "b7d6274d-0e9b-489f-b99a-ed390b4bad51"
      },
      "source": [
        "df_control.head(5)"
      ],
      "execution_count": null,
      "outputs": [
        {
          "output_type": "execute_result",
          "data": {
            "text/html": [
              "<div>\n",
              "<style scoped>\n",
              "    .dataframe tbody tr th:only-of-type {\n",
              "        vertical-align: middle;\n",
              "    }\n",
              "\n",
              "    .dataframe tbody tr th {\n",
              "        vertical-align: top;\n",
              "    }\n",
              "\n",
              "    .dataframe thead th {\n",
              "        text-align: right;\n",
              "    }\n",
              "</style>\n",
              "<table border=\"1\" class=\"dataframe\">\n",
              "  <thead>\n",
              "    <tr style=\"text-align: right;\">\n",
              "      <th></th>\n",
              "      <th>Impression</th>\n",
              "      <th>Click</th>\n",
              "      <th>Purchase</th>\n",
              "      <th>Earning</th>\n",
              "      <th>Impression_Click_Rate</th>\n",
              "      <th>Impression_Purchase_Rate</th>\n",
              "      <th>Impression_Earning_Rate</th>\n",
              "    </tr>\n",
              "  </thead>\n",
              "  <tbody>\n",
              "    <tr>\n",
              "      <th>0</th>\n",
              "      <td>82529.459271</td>\n",
              "      <td>6090.077317</td>\n",
              "      <td>665.211255</td>\n",
              "      <td>2311.277143</td>\n",
              "      <td>7.379277</td>\n",
              "      <td>0.806029</td>\n",
              "      <td>2.800548</td>\n",
              "    </tr>\n",
              "    <tr>\n",
              "      <th>1</th>\n",
              "      <td>98050.451926</td>\n",
              "      <td>3382.861786</td>\n",
              "      <td>315.084895</td>\n",
              "      <td>1742.806855</td>\n",
              "      <td>3.450124</td>\n",
              "      <td>0.321350</td>\n",
              "      <td>1.777459</td>\n",
              "    </tr>\n",
              "    <tr>\n",
              "      <th>2</th>\n",
              "      <td>82696.023549</td>\n",
              "      <td>4167.965750</td>\n",
              "      <td>458.083738</td>\n",
              "      <td>1797.827447</td>\n",
              "      <td>5.040104</td>\n",
              "      <td>0.553937</td>\n",
              "      <td>2.174019</td>\n",
              "    </tr>\n",
              "    <tr>\n",
              "      <th>3</th>\n",
              "      <td>109914.400398</td>\n",
              "      <td>4910.882240</td>\n",
              "      <td>487.090773</td>\n",
              "      <td>1696.229178</td>\n",
              "      <td>4.467915</td>\n",
              "      <td>0.443155</td>\n",
              "      <td>1.543227</td>\n",
              "    </tr>\n",
              "    <tr>\n",
              "      <th>4</th>\n",
              "      <td>108457.762630</td>\n",
              "      <td>5987.655811</td>\n",
              "      <td>441.034050</td>\n",
              "      <td>1543.720179</td>\n",
              "      <td>5.520726</td>\n",
              "      <td>0.406641</td>\n",
              "      <td>1.423338</td>\n",
              "    </tr>\n",
              "  </tbody>\n",
              "</table>\n",
              "</div>"
            ],
            "text/plain": [
              "      Impression  ...  Impression_Earning_Rate\n",
              "0   82529.459271  ...                 2.800548\n",
              "1   98050.451926  ...                 1.777459\n",
              "2   82696.023549  ...                 2.174019\n",
              "3  109914.400398  ...                 1.543227\n",
              "4  108457.762630  ...                 1.423338\n",
              "\n",
              "[5 rows x 7 columns]"
            ]
          },
          "metadata": {},
          "execution_count": 31
        }
      ]
    },
    {
      "cell_type": "code",
      "metadata": {
        "colab": {
          "base_uri": "https://localhost:8080/"
        },
        "id": "oF8HEW8JgMCQ",
        "outputId": "eb39cdbf-2307-409b-f3a9-703bd5c72929"
      },
      "source": [
        "print(df_control[\"Impression_Click_Rate\"].mean())\n",
        "print(df_test[\"Impression_Click_Rate\"].mean())\n",
        "print(\"########\")\n",
        "print(df_control[\"Impression_Purchase_Rate\"].mean())\n",
        "print(df_test[\"Impression_Purchase_Rate\"].mean())\n",
        "print(\"########\")\n",
        "print(df_control[\"Impression_Earning_Rate\"].mean())\n",
        "print(df_test[\"Impression_Earning_Rate\"].mean())"
      ],
      "execution_count": null,
      "outputs": [
        {
          "output_type": "stream",
          "name": "stdout",
          "text": [
            "5.361823086521904\n",
            "3.417599154362738\n",
            "########\n",
            "0.5580006941065656\n",
            "0.4922002820825441\n",
            "########\n",
            "1.9472956333671223\n",
            "2.139713477040172\n"
          ]
        }
      ]
    },
    {
      "cell_type": "code",
      "metadata": {
        "id": "RiJV_EEBglHL"
      },
      "source": [
        "# Normallik testi"
      ],
      "execution_count": null,
      "outputs": []
    },
    {
      "cell_type": "markdown",
      "metadata": {
        "id": "gNKzu-xm6jo7"
      },
      "source": [
        "**Normality Test**"
      ]
    },
    {
      "cell_type": "markdown",
      "metadata": {
        "id": "l8Dtpuq96m2U"
      },
      "source": [
        "Impression Click Rate"
      ]
    },
    {
      "cell_type": "code",
      "metadata": {
        "colab": {
          "base_uri": "https://localhost:8080/"
        },
        "id": "S50SttdWhMTv",
        "outputId": "851448c4-b49d-4ea2-fb0b-2723620a78b7"
      },
      "source": [
        "test_stat_control, pvalue_control = shapiro(df_control[\"Impression_Click_Rate\"])\n",
        "print('Test Stat = %.4f, p-value = %.4f' % (test_stat_control, pvalue_control))\n",
        "\n",
        "test_stat_test, pvalue_test = shapiro(df_test[\"Impression_Click_Rate\"])\n",
        "print('Test Stat = %.4f, p-value = %.4f' % (test_stat_test, pvalue_test))"
      ],
      "execution_count": null,
      "outputs": [
        {
          "output_type": "stream",
          "name": "stdout",
          "text": [
            "Test Stat = 0.8072, p-value = 0.0000\n",
            "Test Stat = 0.8415, p-value = 0.0001\n"
          ]
        }
      ]
    },
    {
      "cell_type": "code",
      "metadata": {
        "id": "cVHv84h_6s__"
      },
      "source": [
        "# From the results of the analysis, it can be seen that the p value is less than 0.05, therefore the normality test will be rejected.\n",
        "# Therefore, there is no need to look at the homogeneity of variance."
      ],
      "execution_count": null,
      "outputs": []
    },
    {
      "cell_type": "code",
      "metadata": {
        "colab": {
          "base_uri": "https://localhost:8080/"
        },
        "id": "GUtZwA7SiZT5",
        "outputId": "e25e147e-4228-459b-f5cf-bb1b1f05be7f"
      },
      "source": [
        "# Impression_click_rate için mannwithneyu yapılmalı:\n",
        "\n",
        "test_stat, pvalue = mannwhitneyu(df_control[\"Impression_Click_Rate\"],\n",
        "                                 df_test[\"Impression_Click_Rate\"])\n",
        "\n",
        "print('Test Stat = %.4f, p-value = %.4f' % (test_stat, pvalue))"
      ],
      "execution_count": null,
      "outputs": [
        {
          "output_type": "stream",
          "name": "stdout",
          "text": [
            "Test Stat = 292.0000, p-value = 0.0000\n"
          ]
        }
      ]
    },
    {
      "cell_type": "code",
      "metadata": {
        "id": "EyfogVLK6844"
      },
      "source": [
        "# It can be seen that the p value for the control and test groups is less than 0.05, therefore the hypothesis will be rejected."
      ],
      "execution_count": null,
      "outputs": []
    },
    {
      "cell_type": "markdown",
      "metadata": {
        "id": "PaRQ5ww8HPch"
      },
      "source": [
        "*Impression Purchase Rate*"
      ]
    },
    {
      "cell_type": "code",
      "metadata": {
        "colab": {
          "base_uri": "https://localhost:8080/"
        },
        "id": "VaaYvwyZhZKB",
        "outputId": "14595c36-d9c7-4ffc-f0d1-b77b01bc5790"
      },
      "source": [
        "test_stat_control, pvalue_control = shapiro(df_control[\"Impression_Purchase_Rate\"])\n",
        "print('Test Stat = %.4f, p-value = %.4f' % (test_stat_control, pvalue_control))\n",
        "\n",
        "test_stat_test, pvalue_test = shapiro(df_test[\"Impression_Purchase_Rate\"])\n",
        "print('Test Stat = %.4f, p-value = %.4f' % (test_stat_test, pvalue_test))"
      ],
      "execution_count": null,
      "outputs": [
        {
          "output_type": "stream",
          "name": "stdout",
          "text": [
            "Test Stat = 0.9857, p-value = 0.8844\n",
            "Test Stat = 0.9714, p-value = 0.3980\n"
          ]
        }
      ]
    },
    {
      "cell_type": "code",
      "metadata": {
        "id": "QvTpuPruHTyu"
      },
      "source": [
        "# From the results of the analysis, it can be seen that the p value is higher than 0.05, therefore the normality test can not be rejected.\n",
        "# Therefore, there is need to look at the homogeneity of variance."
      ],
      "execution_count": null,
      "outputs": []
    },
    {
      "cell_type": "code",
      "metadata": {
        "colab": {
          "base_uri": "https://localhost:8080/"
        },
        "id": "vO7eVrRajIbT",
        "outputId": "a427d22c-f68a-44a4-fbd0-ec492668b9d6"
      },
      "source": [
        "# Impression_Purchase_Rate için varyans homojenliği Levene testi ile kontrol edilmeli:\n",
        "\n",
        "test_stat, pvalue = levene(df_control[\"Impression_Purchase_Rate\"],\n",
        "                           df_test[\"Impression_Purchase_Rate\"])\n",
        "\n",
        "print('Test Stat = %.4f, p-value = %.4f' % (test_stat, pvalue))"
      ],
      "execution_count": null,
      "outputs": [
        {
          "output_type": "stream",
          "name": "stdout",
          "text": [
            "Test Stat = 0.0736, p-value = 0.7868\n"
          ]
        }
      ]
    },
    {
      "cell_type": "code",
      "metadata": {
        "id": "jUPadKRijaYT"
      },
      "source": [
        "# p values is higher than 0.05 so hypothesis can not be rejected. Variances are homohenous.\n",
        "# T test needs to be done: "
      ],
      "execution_count": null,
      "outputs": []
    },
    {
      "cell_type": "code",
      "metadata": {
        "colab": {
          "base_uri": "https://localhost:8080/"
        },
        "id": "fF7ZAb1Njhut",
        "outputId": "aa8bb95f-05da-419e-b440-822d380dbb13"
      },
      "source": [
        "test_stat, pvalue = ttest_ind(df_control[\"Impression_Purchase_Rate\"], df_test[\"Impression_Purchase_Rate\"], equal_var=True)\n",
        "print('Test Stat = %.4f, p-value = %.4f' % (test_stat, pvalue))"
      ],
      "execution_count": null,
      "outputs": [
        {
          "output_type": "stream",
          "name": "stdout",
          "text": [
            "Test Stat = 1.9423, p-value = 0.0557\n"
          ]
        }
      ]
    },
    {
      "cell_type": "markdown",
      "metadata": {
        "id": "0hsipxWatAaJ"
      },
      "source": [
        "There is a statistically significant difference between the two groups."
      ]
    },
    {
      "cell_type": "markdown",
      "metadata": {
        "id": "CZJvHIN6H_Ru"
      },
      "source": [
        "*Impression Earning Rate*"
      ]
    },
    {
      "cell_type": "code",
      "metadata": {
        "colab": {
          "base_uri": "https://localhost:8080/"
        },
        "id": "6bjOiNkMh_CP",
        "outputId": "b1988665-eeae-4fac-d00c-0c8acc8ae6bb"
      },
      "source": [
        "test_stat_control, pvalue_control = shapiro(df_control[\"Impression_Earning_Rate\"])\n",
        "print('Test Stat = %.4f, p-value = %.4f' % (test_stat_control, pvalue_control))\n",
        "\n",
        "test_stat_test, pvalue_test = shapiro(df_test[\"Impression_Earning_Rate\"])\n",
        "print('Test Stat = %.4f, p-value = %.4f' % (test_stat_test, pvalue_test))"
      ],
      "execution_count": null,
      "outputs": [
        {
          "output_type": "stream",
          "name": "stdout",
          "text": [
            "Test Stat = 0.9661, p-value = 0.2694\n",
            "Test Stat = 0.9300, p-value = 0.0161\n"
          ]
        }
      ]
    },
    {
      "cell_type": "code",
      "metadata": {
        "id": "65fIxXQ4iCHY"
      },
      "source": [
        "# p values is lower tahn 0.05. So hypothesis is rejected. There is no normality between two groups. Mannithneyu test needs to be done:"
      ],
      "execution_count": null,
      "outputs": []
    },
    {
      "cell_type": "code",
      "metadata": {
        "colab": {
          "base_uri": "https://localhost:8080/"
        },
        "id": "0q9NXfzLi5k0",
        "outputId": "0832fcaf-0879-49a9-a1d0-63d73b981594"
      },
      "source": [
        "# Impression_click_rate için mannwithneyu yapılmalı:\n",
        "\n",
        "test_stat, pvalue = mannwhitneyu(df_control[\"Impression_Earning_Rate\"],\n",
        "                                 df_test[\"Impression_Earning_Rate\"])\n",
        "\n",
        "print('Test Stat = %.4f, p-value = %.4f' % (test_stat, pvalue))"
      ],
      "execution_count": null,
      "outputs": [
        {
          "output_type": "stream",
          "name": "stdout",
          "text": [
            "Test Stat = 593.0000, p-value = 0.0235\n"
          ]
        }
      ]
    },
    {
      "cell_type": "code",
      "metadata": {
        "id": "hxIf8F5JIaUC"
      },
      "source": [
        "# p values is lower tahn 0.05. So hypothesis is rejected. There is not a statistically significant difference between the two groups."
      ],
      "execution_count": null,
      "outputs": []
    },
    {
      "cell_type": "markdown",
      "metadata": {
        "id": "sUlwfIAxIkMl"
      },
      "source": [
        "As can be seen as a result of the hypothesis tests, there is no statistically significant difference between the two groups in total gain. Therefore, there is no need to use the new calculation method."
      ]
    }
  ]
}